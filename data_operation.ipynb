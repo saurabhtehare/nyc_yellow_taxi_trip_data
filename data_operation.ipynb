{
 "cells": [
  {
   "cell_type": "code",
   "execution_count": 1,
   "metadata": {},
   "outputs": [],
   "source": [
    "import pandas as pd"
   ]
  },
  {
   "cell_type": "code",
   "execution_count": 4,
   "metadata": {},
   "outputs": [
    {
     "data": {
      "text/html": [
       "<div>\n",
       "<style scoped>\n",
       "    .dataframe tbody tr th:only-of-type {\n",
       "        vertical-align: middle;\n",
       "    }\n",
       "\n",
       "    .dataframe tbody tr th {\n",
       "        vertical-align: top;\n",
       "    }\n",
       "\n",
       "    .dataframe thead th {\n",
       "        text-align: right;\n",
       "    }\n",
       "</style>\n",
       "<table border=\"1\" class=\"dataframe\">\n",
       "  <thead>\n",
       "    <tr style=\"text-align: right;\">\n",
       "      <th></th>\n",
       "      <th>VendorID</th>\n",
       "      <th>tpep_pickup_datetime</th>\n",
       "      <th>tpep_dropoff_datetime</th>\n",
       "      <th>passenger_count</th>\n",
       "      <th>trip_distance</th>\n",
       "      <th>pickup_longitude</th>\n",
       "      <th>pickup_latitude</th>\n",
       "      <th>RateCodeID</th>\n",
       "      <th>store_and_fwd_flag</th>\n",
       "      <th>dropoff_longitude</th>\n",
       "      <th>dropoff_latitude</th>\n",
       "      <th>payment_type</th>\n",
       "      <th>fare_amount</th>\n",
       "      <th>extra</th>\n",
       "      <th>mta_tax</th>\n",
       "      <th>tip_amount</th>\n",
       "      <th>tolls_amount</th>\n",
       "      <th>improvement_surcharge</th>\n",
       "      <th>total_amount</th>\n",
       "    </tr>\n",
       "  </thead>\n",
       "  <tbody>\n",
       "    <tr>\n",
       "      <th>0</th>\n",
       "      <td>2</td>\n",
       "      <td>2015-01-15 19:05:39</td>\n",
       "      <td>2015-01-15 19:23:42</td>\n",
       "      <td>1</td>\n",
       "      <td>1.59</td>\n",
       "      <td>-73.993896</td>\n",
       "      <td>40.750111</td>\n",
       "      <td>1</td>\n",
       "      <td>N</td>\n",
       "      <td>-73.974785</td>\n",
       "      <td>40.750618</td>\n",
       "      <td>1</td>\n",
       "      <td>12.0</td>\n",
       "      <td>1.0</td>\n",
       "      <td>0.5</td>\n",
       "      <td>3.25</td>\n",
       "      <td>0.0</td>\n",
       "      <td>0.3</td>\n",
       "      <td>17.05</td>\n",
       "    </tr>\n",
       "    <tr>\n",
       "      <th>1</th>\n",
       "      <td>1</td>\n",
       "      <td>2015-01-10 20:33:38</td>\n",
       "      <td>2015-01-10 20:53:28</td>\n",
       "      <td>1</td>\n",
       "      <td>3.30</td>\n",
       "      <td>-74.001648</td>\n",
       "      <td>40.724243</td>\n",
       "      <td>1</td>\n",
       "      <td>N</td>\n",
       "      <td>-73.994415</td>\n",
       "      <td>40.759109</td>\n",
       "      <td>1</td>\n",
       "      <td>14.5</td>\n",
       "      <td>0.5</td>\n",
       "      <td>0.5</td>\n",
       "      <td>2.00</td>\n",
       "      <td>0.0</td>\n",
       "      <td>0.3</td>\n",
       "      <td>17.80</td>\n",
       "    </tr>\n",
       "    <tr>\n",
       "      <th>2</th>\n",
       "      <td>1</td>\n",
       "      <td>2015-01-10 20:33:38</td>\n",
       "      <td>2015-01-10 20:43:41</td>\n",
       "      <td>1</td>\n",
       "      <td>1.80</td>\n",
       "      <td>-73.963341</td>\n",
       "      <td>40.802788</td>\n",
       "      <td>1</td>\n",
       "      <td>N</td>\n",
       "      <td>-73.951820</td>\n",
       "      <td>40.824413</td>\n",
       "      <td>2</td>\n",
       "      <td>9.5</td>\n",
       "      <td>0.5</td>\n",
       "      <td>0.5</td>\n",
       "      <td>0.00</td>\n",
       "      <td>0.0</td>\n",
       "      <td>0.3</td>\n",
       "      <td>10.80</td>\n",
       "    </tr>\n",
       "    <tr>\n",
       "      <th>3</th>\n",
       "      <td>1</td>\n",
       "      <td>2015-01-10 20:33:39</td>\n",
       "      <td>2015-01-10 20:35:31</td>\n",
       "      <td>1</td>\n",
       "      <td>0.50</td>\n",
       "      <td>-74.009087</td>\n",
       "      <td>40.713818</td>\n",
       "      <td>1</td>\n",
       "      <td>N</td>\n",
       "      <td>-74.004326</td>\n",
       "      <td>40.719986</td>\n",
       "      <td>2</td>\n",
       "      <td>3.5</td>\n",
       "      <td>0.5</td>\n",
       "      <td>0.5</td>\n",
       "      <td>0.00</td>\n",
       "      <td>0.0</td>\n",
       "      <td>0.3</td>\n",
       "      <td>4.80</td>\n",
       "    </tr>\n",
       "    <tr>\n",
       "      <th>4</th>\n",
       "      <td>1</td>\n",
       "      <td>2015-01-10 20:33:39</td>\n",
       "      <td>2015-01-10 20:52:58</td>\n",
       "      <td>1</td>\n",
       "      <td>3.00</td>\n",
       "      <td>-73.971176</td>\n",
       "      <td>40.762428</td>\n",
       "      <td>1</td>\n",
       "      <td>N</td>\n",
       "      <td>-74.004181</td>\n",
       "      <td>40.742653</td>\n",
       "      <td>2</td>\n",
       "      <td>15.0</td>\n",
       "      <td>0.5</td>\n",
       "      <td>0.5</td>\n",
       "      <td>0.00</td>\n",
       "      <td>0.0</td>\n",
       "      <td>0.3</td>\n",
       "      <td>16.30</td>\n",
       "    </tr>\n",
       "  </tbody>\n",
       "</table>\n",
       "</div>"
      ],
      "text/plain": [
       "   VendorID tpep_pickup_datetime tpep_dropoff_datetime  passenger_count  \\\n",
       "0         2  2015-01-15 19:05:39   2015-01-15 19:23:42                1   \n",
       "1         1  2015-01-10 20:33:38   2015-01-10 20:53:28                1   \n",
       "2         1  2015-01-10 20:33:38   2015-01-10 20:43:41                1   \n",
       "3         1  2015-01-10 20:33:39   2015-01-10 20:35:31                1   \n",
       "4         1  2015-01-10 20:33:39   2015-01-10 20:52:58                1   \n",
       "\n",
       "   trip_distance  pickup_longitude  pickup_latitude  RateCodeID  \\\n",
       "0           1.59        -73.993896        40.750111           1   \n",
       "1           3.30        -74.001648        40.724243           1   \n",
       "2           1.80        -73.963341        40.802788           1   \n",
       "3           0.50        -74.009087        40.713818           1   \n",
       "4           3.00        -73.971176        40.762428           1   \n",
       "\n",
       "  store_and_fwd_flag  dropoff_longitude  dropoff_latitude  payment_type  \\\n",
       "0                  N         -73.974785         40.750618             1   \n",
       "1                  N         -73.994415         40.759109             1   \n",
       "2                  N         -73.951820         40.824413             2   \n",
       "3                  N         -74.004326         40.719986             2   \n",
       "4                  N         -74.004181         40.742653             2   \n",
       "\n",
       "   fare_amount  extra  mta_tax  tip_amount  tolls_amount  \\\n",
       "0         12.0    1.0      0.5        3.25           0.0   \n",
       "1         14.5    0.5      0.5        2.00           0.0   \n",
       "2          9.5    0.5      0.5        0.00           0.0   \n",
       "3          3.5    0.5      0.5        0.00           0.0   \n",
       "4         15.0    0.5      0.5        0.00           0.0   \n",
       "\n",
       "   improvement_surcharge  total_amount  \n",
       "0                    0.3         17.05  \n",
       "1                    0.3         17.80  \n",
       "2                    0.3         10.80  \n",
       "3                    0.3          4.80  \n",
       "4                    0.3         16.30  "
      ]
     },
     "execution_count": 4,
     "metadata": {},
     "output_type": "execute_result"
    }
   ],
   "source": [
    "df_15  = pd.read_csv(r\"C:\\Users\\user\\Desktop\\1MASAI\\NYC Yellow Taxi Trip Data\\archive\\yellow_tripdata_2015-01.csv\")\n",
    "df_15.head()"
   ]
  },
  {
   "cell_type": "code",
   "execution_count": 29,
   "metadata": {},
   "outputs": [
    {
     "data": {
      "text/plain": [
       "0          2015-01-15 19:05:39\n",
       "1          2015-01-10 20:33:38\n",
       "2          2015-01-10 20:33:38\n",
       "3          2015-01-10 20:33:39\n",
       "4          2015-01-10 20:33:39\n",
       "                   ...        \n",
       "12748981   2015-01-10 19:01:44\n",
       "12748982   2015-01-10 19:01:44\n",
       "12748983   2015-01-10 19:01:44\n",
       "12748984   2015-01-10 19:01:44\n",
       "12748985   2015-01-10 19:01:45\n",
       "Name: tpep_pickup_datetime, Length: 12748986, dtype: datetime64[ns]"
      ]
     },
     "execution_count": 29,
     "metadata": {},
     "output_type": "execute_result"
    }
   ],
   "source": [
    "df_15[\"tpep_pickup_datetime\"]"
   ]
  },
  {
   "cell_type": "code",
   "execution_count": 17,
   "metadata": {},
   "outputs": [],
   "source": [
    "df_15['tpep_pickup_datetime'] = pd.to_datetime(df_15['tpep_pickup_datetime'])"
   ]
  },
  {
   "cell_type": "code",
   "execution_count": 18,
   "metadata": {},
   "outputs": [],
   "source": [
    "df_15['Month'] = df_15['tpep_pickup_datetime'].dt.month\n"
   ]
  },
  {
   "cell_type": "code",
   "execution_count": 28,
   "metadata": {},
   "outputs": [
    {
     "name": "stdout",
     "output_type": "stream",
     "text": [
      "Month\n",
      "1    12748986\n",
      "dtype: int64\n"
     ]
    }
   ],
   "source": [
    "print(df_15.groupby('Month').size())"
   ]
  },
  {
   "cell_type": "code",
   "execution_count": 25,
   "metadata": {},
   "outputs": [
    {
     "name": "stderr",
     "output_type": "stream",
     "text": [
      "C:\\Users\\user\\AppData\\Local\\Temp\\ipykernel_14672\\169093203.py:1: DeprecationWarning: DataFrameGroupBy.apply operated on the grouping columns. This behavior is deprecated, and in a future version of pandas the grouping columns will be excluded from the operation. Either pass `include_groups=False` to exclude the groupings or explicitly select the grouping columns after groupby to silence this warning.\n",
      "  sampled_data = df_15.groupby('Month', group_keys=False).apply(\n"
     ]
    }
   ],
   "source": [
    "sampled_data = df_15.groupby('Month', group_keys=False).apply(\n",
    "    lambda x: x.sample(n=5000, random_state=42) if len(x) >= 5000 else x).reset_index(drop=True)"
   ]
  },
  {
   "cell_type": "code",
   "execution_count": 26,
   "metadata": {},
   "outputs": [],
   "source": [
    "sampled_data = sampled_data.loc[:, sampled_data.columns != 'Month']"
   ]
  },
  {
   "cell_type": "code",
   "execution_count": 27,
   "metadata": {},
   "outputs": [
    {
     "name": "stdout",
     "output_type": "stream",
     "text": [
      "      VendorID tpep_pickup_datetime tpep_dropoff_datetime  passenger_count  \\\n",
      "0            1  2015-01-31 04:32:54   2015-01-31 04:36:41                1   \n",
      "1            2  2015-01-29 07:26:35   2015-01-29 07:52:45                2   \n",
      "2            1  2015-01-25 10:48:44   2015-01-25 10:52:47                1   \n",
      "3            2  2015-01-01 17:16:07   2015-01-01 17:27:12                1   \n",
      "4            1  2015-01-05 22:08:12   2015-01-05 22:14:34                1   \n",
      "...        ...                  ...                   ...              ...   \n",
      "4995         2  2015-01-15 19:49:35   2015-01-15 19:56:49                1   \n",
      "4996         2  2015-01-28 12:29:55   2015-01-28 12:45:54                5   \n",
      "4997         2  2015-01-28 12:09:58   2015-01-28 12:11:38                2   \n",
      "4998         1  2015-01-15 12:22:44   2015-01-15 12:25:53                1   \n",
      "4999         1  2015-01-20 19:14:32   2015-01-20 19:17:27                1   \n",
      "\n",
      "      trip_distance  pickup_longitude  pickup_latitude  RateCodeID  \\\n",
      "0              1.30        -74.001579        40.736187           1   \n",
      "1              3.86        -73.967941        40.802380           1   \n",
      "2              1.10        -73.990021        40.746696           1   \n",
      "3              0.95        -73.987930        40.759708           1   \n",
      "4              1.30        -73.988091        40.764626           1   \n",
      "...             ...               ...              ...         ...   \n",
      "4995           0.72        -73.980637        40.750793           1   \n",
      "4996           2.03        -73.969421        40.749149           1   \n",
      "4997           0.35        -73.965439        40.766815           1   \n",
      "4998           0.60        -73.985413        40.758286           1   \n",
      "4999           0.30        -73.990250        40.729202           1   \n",
      "\n",
      "     store_and_fwd_flag  dropoff_longitude  dropoff_latitude  payment_type  \\\n",
      "0                     N         -74.008591         40.719151             2   \n",
      "1                     N         -73.972244         40.761734             1   \n",
      "2                     N         -73.978386         40.758587             1   \n",
      "3                     N         -73.977608         40.753555             2   \n",
      "4                     N         -73.993050         40.748699             2   \n",
      "...                 ...                ...               ...           ...   \n",
      "4995                  N         -73.991142         40.750423             2   \n",
      "4996                  N         -73.989708         40.735298             2   \n",
      "4997                  N         -73.964554         40.770531             1   \n",
      "4998                  N         -73.991325         40.750496             1   \n",
      "4999                  N         -73.993790         40.732059             2   \n",
      "\n",
      "      fare_amount  extra  mta_tax  tip_amount  tolls_amount  \\\n",
      "0             6.0    0.5      0.5        0.00           0.0   \n",
      "1            19.0    0.0      0.5        3.96           0.0   \n",
      "2             5.5    0.0      0.5        0.06           0.0   \n",
      "3             8.5    0.0      0.5        0.00           0.0   \n",
      "4             7.0    0.5      0.5        0.00           0.0   \n",
      "...           ...    ...      ...         ...           ...   \n",
      "4995          6.0    1.0      0.5        0.00           0.0   \n",
      "4996         11.5    0.0      0.5        0.00           0.0   \n",
      "4997          3.5    0.0      0.5        1.08           0.0   \n",
      "4998          4.0    0.0      0.5        1.20           0.0   \n",
      "4999          4.0    1.0      0.5        0.00           0.0   \n",
      "\n",
      "      improvement_surcharge  total_amount  \n",
      "0                       0.3          7.30  \n",
      "1                       0.3         23.76  \n",
      "2                       0.3          6.36  \n",
      "3                       0.3          9.30  \n",
      "4                       0.3          8.30  \n",
      "...                     ...           ...  \n",
      "4995                    0.3          7.80  \n",
      "4996                    0.3         12.30  \n",
      "4997                    0.3          5.38  \n",
      "4998                    0.3          6.00  \n",
      "4999                    0.3          5.80  \n",
      "\n",
      "[5000 rows x 19 columns]\n"
     ]
    }
   ],
   "source": [
    "print(sampled_data)"
   ]
  },
  {
   "cell_type": "code",
   "execution_count": 30,
   "metadata": {},
   "outputs": [],
   "source": [
    "sampled_data.to_csv(\"2015_stratified_sample.csv\", index=False)"
   ]
  },
  {
   "cell_type": "code",
   "execution_count": 31,
   "metadata": {},
   "outputs": [
    {
     "name": "stdout",
     "output_type": "stream",
     "text": [
      "Sampled rows: 5000\n"
     ]
    }
   ],
   "source": [
    "print(f\"Sampled rows: {len(sampled_data)}\")"
   ]
  },
  {
   "cell_type": "code",
   "execution_count": 33,
   "metadata": {},
   "outputs": [
    {
     "data": {
      "text/html": [
       "<div>\n",
       "<style scoped>\n",
       "    .dataframe tbody tr th:only-of-type {\n",
       "        vertical-align: middle;\n",
       "    }\n",
       "\n",
       "    .dataframe tbody tr th {\n",
       "        vertical-align: top;\n",
       "    }\n",
       "\n",
       "    .dataframe thead th {\n",
       "        text-align: right;\n",
       "    }\n",
       "</style>\n",
       "<table border=\"1\" class=\"dataframe\">\n",
       "  <thead>\n",
       "    <tr style=\"text-align: right;\">\n",
       "      <th></th>\n",
       "      <th>VendorID</th>\n",
       "      <th>tpep_pickup_datetime</th>\n",
       "      <th>tpep_dropoff_datetime</th>\n",
       "      <th>passenger_count</th>\n",
       "      <th>trip_distance</th>\n",
       "      <th>pickup_longitude</th>\n",
       "      <th>pickup_latitude</th>\n",
       "      <th>RateCodeID</th>\n",
       "      <th>store_and_fwd_flag</th>\n",
       "      <th>dropoff_longitude</th>\n",
       "      <th>dropoff_latitude</th>\n",
       "      <th>payment_type</th>\n",
       "      <th>fare_amount</th>\n",
       "      <th>extra</th>\n",
       "      <th>mta_tax</th>\n",
       "      <th>tip_amount</th>\n",
       "      <th>tolls_amount</th>\n",
       "      <th>improvement_surcharge</th>\n",
       "      <th>total_amount</th>\n",
       "    </tr>\n",
       "  </thead>\n",
       "  <tbody>\n",
       "    <tr>\n",
       "      <th>0</th>\n",
       "      <td>1</td>\n",
       "      <td>2015-01-31 04:32:54</td>\n",
       "      <td>2015-01-31 04:36:41</td>\n",
       "      <td>1</td>\n",
       "      <td>1.30</td>\n",
       "      <td>-74.001579</td>\n",
       "      <td>40.736187</td>\n",
       "      <td>1</td>\n",
       "      <td>N</td>\n",
       "      <td>-74.008591</td>\n",
       "      <td>40.719151</td>\n",
       "      <td>2</td>\n",
       "      <td>6.0</td>\n",
       "      <td>0.5</td>\n",
       "      <td>0.5</td>\n",
       "      <td>0.00</td>\n",
       "      <td>0.0</td>\n",
       "      <td>0.3</td>\n",
       "      <td>7.30</td>\n",
       "    </tr>\n",
       "    <tr>\n",
       "      <th>1</th>\n",
       "      <td>2</td>\n",
       "      <td>2015-01-29 07:26:35</td>\n",
       "      <td>2015-01-29 07:52:45</td>\n",
       "      <td>2</td>\n",
       "      <td>3.86</td>\n",
       "      <td>-73.967941</td>\n",
       "      <td>40.802380</td>\n",
       "      <td>1</td>\n",
       "      <td>N</td>\n",
       "      <td>-73.972244</td>\n",
       "      <td>40.761734</td>\n",
       "      <td>1</td>\n",
       "      <td>19.0</td>\n",
       "      <td>0.0</td>\n",
       "      <td>0.5</td>\n",
       "      <td>3.96</td>\n",
       "      <td>0.0</td>\n",
       "      <td>0.3</td>\n",
       "      <td>23.76</td>\n",
       "    </tr>\n",
       "    <tr>\n",
       "      <th>2</th>\n",
       "      <td>1</td>\n",
       "      <td>2015-01-25 10:48:44</td>\n",
       "      <td>2015-01-25 10:52:47</td>\n",
       "      <td>1</td>\n",
       "      <td>1.10</td>\n",
       "      <td>-73.990021</td>\n",
       "      <td>40.746696</td>\n",
       "      <td>1</td>\n",
       "      <td>N</td>\n",
       "      <td>-73.978386</td>\n",
       "      <td>40.758587</td>\n",
       "      <td>1</td>\n",
       "      <td>5.5</td>\n",
       "      <td>0.0</td>\n",
       "      <td>0.5</td>\n",
       "      <td>0.06</td>\n",
       "      <td>0.0</td>\n",
       "      <td>0.3</td>\n",
       "      <td>6.36</td>\n",
       "    </tr>\n",
       "    <tr>\n",
       "      <th>3</th>\n",
       "      <td>2</td>\n",
       "      <td>2015-01-01 17:16:07</td>\n",
       "      <td>2015-01-01 17:27:12</td>\n",
       "      <td>1</td>\n",
       "      <td>0.95</td>\n",
       "      <td>-73.987930</td>\n",
       "      <td>40.759708</td>\n",
       "      <td>1</td>\n",
       "      <td>N</td>\n",
       "      <td>-73.977608</td>\n",
       "      <td>40.753555</td>\n",
       "      <td>2</td>\n",
       "      <td>8.5</td>\n",
       "      <td>0.0</td>\n",
       "      <td>0.5</td>\n",
       "      <td>0.00</td>\n",
       "      <td>0.0</td>\n",
       "      <td>0.3</td>\n",
       "      <td>9.30</td>\n",
       "    </tr>\n",
       "    <tr>\n",
       "      <th>4</th>\n",
       "      <td>1</td>\n",
       "      <td>2015-01-05 22:08:12</td>\n",
       "      <td>2015-01-05 22:14:34</td>\n",
       "      <td>1</td>\n",
       "      <td>1.30</td>\n",
       "      <td>-73.988091</td>\n",
       "      <td>40.764626</td>\n",
       "      <td>1</td>\n",
       "      <td>N</td>\n",
       "      <td>-73.993050</td>\n",
       "      <td>40.748699</td>\n",
       "      <td>2</td>\n",
       "      <td>7.0</td>\n",
       "      <td>0.5</td>\n",
       "      <td>0.5</td>\n",
       "      <td>0.00</td>\n",
       "      <td>0.0</td>\n",
       "      <td>0.3</td>\n",
       "      <td>8.30</td>\n",
       "    </tr>\n",
       "    <tr>\n",
       "      <th>...</th>\n",
       "      <td>...</td>\n",
       "      <td>...</td>\n",
       "      <td>...</td>\n",
       "      <td>...</td>\n",
       "      <td>...</td>\n",
       "      <td>...</td>\n",
       "      <td>...</td>\n",
       "      <td>...</td>\n",
       "      <td>...</td>\n",
       "      <td>...</td>\n",
       "      <td>...</td>\n",
       "      <td>...</td>\n",
       "      <td>...</td>\n",
       "      <td>...</td>\n",
       "      <td>...</td>\n",
       "      <td>...</td>\n",
       "      <td>...</td>\n",
       "      <td>...</td>\n",
       "      <td>...</td>\n",
       "    </tr>\n",
       "    <tr>\n",
       "      <th>4995</th>\n",
       "      <td>2</td>\n",
       "      <td>2015-01-15 19:49:35</td>\n",
       "      <td>2015-01-15 19:56:49</td>\n",
       "      <td>1</td>\n",
       "      <td>0.72</td>\n",
       "      <td>-73.980637</td>\n",
       "      <td>40.750793</td>\n",
       "      <td>1</td>\n",
       "      <td>N</td>\n",
       "      <td>-73.991142</td>\n",
       "      <td>40.750423</td>\n",
       "      <td>2</td>\n",
       "      <td>6.0</td>\n",
       "      <td>1.0</td>\n",
       "      <td>0.5</td>\n",
       "      <td>0.00</td>\n",
       "      <td>0.0</td>\n",
       "      <td>0.3</td>\n",
       "      <td>7.80</td>\n",
       "    </tr>\n",
       "    <tr>\n",
       "      <th>4996</th>\n",
       "      <td>2</td>\n",
       "      <td>2015-01-28 12:29:55</td>\n",
       "      <td>2015-01-28 12:45:54</td>\n",
       "      <td>5</td>\n",
       "      <td>2.03</td>\n",
       "      <td>-73.969421</td>\n",
       "      <td>40.749149</td>\n",
       "      <td>1</td>\n",
       "      <td>N</td>\n",
       "      <td>-73.989708</td>\n",
       "      <td>40.735298</td>\n",
       "      <td>2</td>\n",
       "      <td>11.5</td>\n",
       "      <td>0.0</td>\n",
       "      <td>0.5</td>\n",
       "      <td>0.00</td>\n",
       "      <td>0.0</td>\n",
       "      <td>0.3</td>\n",
       "      <td>12.30</td>\n",
       "    </tr>\n",
       "    <tr>\n",
       "      <th>4997</th>\n",
       "      <td>2</td>\n",
       "      <td>2015-01-28 12:09:58</td>\n",
       "      <td>2015-01-28 12:11:38</td>\n",
       "      <td>2</td>\n",
       "      <td>0.35</td>\n",
       "      <td>-73.965439</td>\n",
       "      <td>40.766815</td>\n",
       "      <td>1</td>\n",
       "      <td>N</td>\n",
       "      <td>-73.964554</td>\n",
       "      <td>40.770531</td>\n",
       "      <td>1</td>\n",
       "      <td>3.5</td>\n",
       "      <td>0.0</td>\n",
       "      <td>0.5</td>\n",
       "      <td>1.08</td>\n",
       "      <td>0.0</td>\n",
       "      <td>0.3</td>\n",
       "      <td>5.38</td>\n",
       "    </tr>\n",
       "    <tr>\n",
       "      <th>4998</th>\n",
       "      <td>1</td>\n",
       "      <td>2015-01-15 12:22:44</td>\n",
       "      <td>2015-01-15 12:25:53</td>\n",
       "      <td>1</td>\n",
       "      <td>0.60</td>\n",
       "      <td>-73.985413</td>\n",
       "      <td>40.758286</td>\n",
       "      <td>1</td>\n",
       "      <td>N</td>\n",
       "      <td>-73.991325</td>\n",
       "      <td>40.750496</td>\n",
       "      <td>1</td>\n",
       "      <td>4.0</td>\n",
       "      <td>0.0</td>\n",
       "      <td>0.5</td>\n",
       "      <td>1.20</td>\n",
       "      <td>0.0</td>\n",
       "      <td>0.3</td>\n",
       "      <td>6.00</td>\n",
       "    </tr>\n",
       "    <tr>\n",
       "      <th>4999</th>\n",
       "      <td>1</td>\n",
       "      <td>2015-01-20 19:14:32</td>\n",
       "      <td>2015-01-20 19:17:27</td>\n",
       "      <td>1</td>\n",
       "      <td>0.30</td>\n",
       "      <td>-73.990250</td>\n",
       "      <td>40.729202</td>\n",
       "      <td>1</td>\n",
       "      <td>N</td>\n",
       "      <td>-73.993790</td>\n",
       "      <td>40.732059</td>\n",
       "      <td>2</td>\n",
       "      <td>4.0</td>\n",
       "      <td>1.0</td>\n",
       "      <td>0.5</td>\n",
       "      <td>0.00</td>\n",
       "      <td>0.0</td>\n",
       "      <td>0.3</td>\n",
       "      <td>5.80</td>\n",
       "    </tr>\n",
       "  </tbody>\n",
       "</table>\n",
       "<p>5000 rows × 19 columns</p>\n",
       "</div>"
      ],
      "text/plain": [
       "      VendorID tpep_pickup_datetime tpep_dropoff_datetime  passenger_count  \\\n",
       "0            1  2015-01-31 04:32:54   2015-01-31 04:36:41                1   \n",
       "1            2  2015-01-29 07:26:35   2015-01-29 07:52:45                2   \n",
       "2            1  2015-01-25 10:48:44   2015-01-25 10:52:47                1   \n",
       "3            2  2015-01-01 17:16:07   2015-01-01 17:27:12                1   \n",
       "4            1  2015-01-05 22:08:12   2015-01-05 22:14:34                1   \n",
       "...        ...                  ...                   ...              ...   \n",
       "4995         2  2015-01-15 19:49:35   2015-01-15 19:56:49                1   \n",
       "4996         2  2015-01-28 12:29:55   2015-01-28 12:45:54                5   \n",
       "4997         2  2015-01-28 12:09:58   2015-01-28 12:11:38                2   \n",
       "4998         1  2015-01-15 12:22:44   2015-01-15 12:25:53                1   \n",
       "4999         1  2015-01-20 19:14:32   2015-01-20 19:17:27                1   \n",
       "\n",
       "      trip_distance  pickup_longitude  pickup_latitude  RateCodeID  \\\n",
       "0              1.30        -74.001579        40.736187           1   \n",
       "1              3.86        -73.967941        40.802380           1   \n",
       "2              1.10        -73.990021        40.746696           1   \n",
       "3              0.95        -73.987930        40.759708           1   \n",
       "4              1.30        -73.988091        40.764626           1   \n",
       "...             ...               ...              ...         ...   \n",
       "4995           0.72        -73.980637        40.750793           1   \n",
       "4996           2.03        -73.969421        40.749149           1   \n",
       "4997           0.35        -73.965439        40.766815           1   \n",
       "4998           0.60        -73.985413        40.758286           1   \n",
       "4999           0.30        -73.990250        40.729202           1   \n",
       "\n",
       "     store_and_fwd_flag  dropoff_longitude  dropoff_latitude  payment_type  \\\n",
       "0                     N         -74.008591         40.719151             2   \n",
       "1                     N         -73.972244         40.761734             1   \n",
       "2                     N         -73.978386         40.758587             1   \n",
       "3                     N         -73.977608         40.753555             2   \n",
       "4                     N         -73.993050         40.748699             2   \n",
       "...                 ...                ...               ...           ...   \n",
       "4995                  N         -73.991142         40.750423             2   \n",
       "4996                  N         -73.989708         40.735298             2   \n",
       "4997                  N         -73.964554         40.770531             1   \n",
       "4998                  N         -73.991325         40.750496             1   \n",
       "4999                  N         -73.993790         40.732059             2   \n",
       "\n",
       "      fare_amount  extra  mta_tax  tip_amount  tolls_amount  \\\n",
       "0             6.0    0.5      0.5        0.00           0.0   \n",
       "1            19.0    0.0      0.5        3.96           0.0   \n",
       "2             5.5    0.0      0.5        0.06           0.0   \n",
       "3             8.5    0.0      0.5        0.00           0.0   \n",
       "4             7.0    0.5      0.5        0.00           0.0   \n",
       "...           ...    ...      ...         ...           ...   \n",
       "4995          6.0    1.0      0.5        0.00           0.0   \n",
       "4996         11.5    0.0      0.5        0.00           0.0   \n",
       "4997          3.5    0.0      0.5        1.08           0.0   \n",
       "4998          4.0    0.0      0.5        1.20           0.0   \n",
       "4999          4.0    1.0      0.5        0.00           0.0   \n",
       "\n",
       "      improvement_surcharge  total_amount  \n",
       "0                       0.3          7.30  \n",
       "1                       0.3         23.76  \n",
       "2                       0.3          6.36  \n",
       "3                       0.3          9.30  \n",
       "4                       0.3          8.30  \n",
       "...                     ...           ...  \n",
       "4995                    0.3          7.80  \n",
       "4996                    0.3         12.30  \n",
       "4997                    0.3          5.38  \n",
       "4998                    0.3          6.00  \n",
       "4999                    0.3          5.80  \n",
       "\n",
       "[5000 rows x 19 columns]"
      ]
     },
     "execution_count": 33,
     "metadata": {},
     "output_type": "execute_result"
    }
   ],
   "source": [
    "df = pd.read_csv(\"2015_stratified_sample.csv\")\n",
    "df"
   ]
  },
  {
   "cell_type": "code",
   "execution_count": 34,
   "metadata": {},
   "outputs": [],
   "source": [
    "df_16_1 = pd.read_csv(r\"C:\\Users\\user\\Desktop\\1MASAI\\NYC Yellow Taxi Trip Data\\archive\\yellow_tripdata_2016-01.csv\")"
   ]
  },
  {
   "cell_type": "code",
   "execution_count": 35,
   "metadata": {},
   "outputs": [],
   "source": [
    "df_16_2 = pd.read_csv(r\"C:\\Users\\user\\Desktop\\1MASAI\\NYC Yellow Taxi Trip Data\\archive\\yellow_tripdata_2016-02.csv\")"
   ]
  },
  {
   "cell_type": "code",
   "execution_count": 36,
   "metadata": {},
   "outputs": [],
   "source": [
    "df_16_3 = pd.read_csv(r\"C:\\Users\\user\\Desktop\\1MASAI\\NYC Yellow Taxi Trip Data\\archive\\yellow_tripdata_2016-03.csv\")"
   ]
  },
  {
   "cell_type": "code",
   "execution_count": 37,
   "metadata": {},
   "outputs": [],
   "source": [
    "df_16_1['tpep_pickup_datetime'] = pd.to_datetime(df_16_1['tpep_pickup_datetime'])\n",
    "df_16_2['tpep_pickup_datetime'] = pd.to_datetime(df_16_2['tpep_pickup_datetime'])\n",
    "df_16_3['tpep_pickup_datetime'] = pd.to_datetime(df_16_3['tpep_pickup_datetime'])"
   ]
  },
  {
   "cell_type": "code",
   "execution_count": 38,
   "metadata": {},
   "outputs": [],
   "source": [
    "df_16_1['Month'] = df_16_1['tpep_pickup_datetime'].dt.month\n",
    "df_16_2['Month'] = df_16_2['tpep_pickup_datetime'].dt.month\n",
    "df_16_3['Month'] = df_16_3['tpep_pickup_datetime'].dt.month"
   ]
  },
  {
   "cell_type": "code",
   "execution_count": 39,
   "metadata": {},
   "outputs": [
    {
     "name": "stdout",
     "output_type": "stream",
     "text": [
      "Month\n",
      "3    12210952\n",
      "dtype: int64\n"
     ]
    }
   ],
   "source": [
    "print(df_16_3.groupby('Month').size())"
   ]
  },
  {
   "cell_type": "code",
   "execution_count": 40,
   "metadata": {},
   "outputs": [
    {
     "name": "stdout",
     "output_type": "stream",
     "text": [
      "Month\n",
      "2    11382049\n",
      "dtype: int64\n"
     ]
    }
   ],
   "source": [
    "print(df_16_2.groupby('Month').size())"
   ]
  },
  {
   "cell_type": "code",
   "execution_count": 41,
   "metadata": {},
   "outputs": [
    {
     "name": "stdout",
     "output_type": "stream",
     "text": [
      "Month\n",
      "1    10906858\n",
      "dtype: int64\n"
     ]
    }
   ],
   "source": [
    "print(df_16_1.groupby('Month').size())"
   ]
  },
  {
   "cell_type": "code",
   "execution_count": 42,
   "metadata": {},
   "outputs": [
    {
     "name": "stderr",
     "output_type": "stream",
     "text": [
      "C:\\Users\\user\\AppData\\Local\\Temp\\ipykernel_14672\\3859869526.py:1: DeprecationWarning: DataFrameGroupBy.apply operated on the grouping columns. This behavior is deprecated, and in a future version of pandas the grouping columns will be excluded from the operation. Either pass `include_groups=False` to exclude the groupings or explicitly select the grouping columns after groupby to silence this warning.\n",
      "  sampled_data_2 = df_16_1.groupby('Month', group_keys=False).apply(\n"
     ]
    }
   ],
   "source": [
    "sampled_data_2 = df_16_1.groupby('Month', group_keys=False).apply(\n",
    "    lambda x: x.sample(n=5000, random_state=42) if len(x) >= 5000 else x).reset_index(drop=True)"
   ]
  },
  {
   "cell_type": "code",
   "execution_count": 43,
   "metadata": {},
   "outputs": [
    {
     "name": "stderr",
     "output_type": "stream",
     "text": [
      "C:\\Users\\user\\AppData\\Local\\Temp\\ipykernel_14672\\3854900792.py:1: DeprecationWarning: DataFrameGroupBy.apply operated on the grouping columns. This behavior is deprecated, and in a future version of pandas the grouping columns will be excluded from the operation. Either pass `include_groups=False` to exclude the groupings or explicitly select the grouping columns after groupby to silence this warning.\n",
      "  sampled_data_3 = df_16_2.groupby('Month', group_keys=False).apply(\n"
     ]
    }
   ],
   "source": [
    "sampled_data_3 = df_16_2.groupby('Month', group_keys=False).apply(\n",
    "    lambda x: x.sample(n=5000, random_state=42) if len(x) >= 5000 else x).reset_index(drop=True)"
   ]
  },
  {
   "cell_type": "code",
   "execution_count": 44,
   "metadata": {},
   "outputs": [
    {
     "name": "stderr",
     "output_type": "stream",
     "text": [
      "C:\\Users\\user\\AppData\\Local\\Temp\\ipykernel_14672\\2064996805.py:1: DeprecationWarning: DataFrameGroupBy.apply operated on the grouping columns. This behavior is deprecated, and in a future version of pandas the grouping columns will be excluded from the operation. Either pass `include_groups=False` to exclude the groupings or explicitly select the grouping columns after groupby to silence this warning.\n",
      "  sampled_data_4 = df_16_3.groupby('Month', group_keys=False).apply(\n"
     ]
    }
   ],
   "source": [
    "sampled_data_4 = df_16_3.groupby('Month', group_keys=False).apply(\n",
    "    lambda x: x.sample(n=5000, random_state=42) if len(x) >= 5000 else x).reset_index(drop=True)"
   ]
  },
  {
   "cell_type": "code",
   "execution_count": 45,
   "metadata": {},
   "outputs": [],
   "source": [
    "sampled_data_2 = sampled_data_2.loc[:, sampled_data_2.columns != 'Month']\n",
    "sampled_data_3 = sampled_data_3.loc[:, sampled_data_3.columns != 'Month']\n",
    "sampled_data_4 = sampled_data_4.loc[:, sampled_data_4.columns != 'Month']"
   ]
  },
  {
   "cell_type": "code",
   "execution_count": 46,
   "metadata": {},
   "outputs": [],
   "source": [
    "sampled_data_2.to_csv(\"2016_1_stratified_sample.csv\", index=False)\n",
    "sampled_data_3.to_csv(\"2016_2_stratified_sample.csv\", index=False)\n",
    "sampled_data_4.to_csv(\"2016_3_stratified_sample.csv\", index=False)"
   ]
  },
  {
   "cell_type": "code",
   "execution_count": null,
   "metadata": {},
   "outputs": [],
   "source": []
  }
 ],
 "metadata": {
  "kernelspec": {
   "display_name": "base",
   "language": "python",
   "name": "python3"
  },
  "language_info": {
   "codemirror_mode": {
    "name": "ipython",
    "version": 3
   },
   "file_extension": ".py",
   "mimetype": "text/x-python",
   "name": "python",
   "nbconvert_exporter": "python",
   "pygments_lexer": "ipython3",
   "version": "3.12.7"
  }
 },
 "nbformat": 4,
 "nbformat_minor": 2
}
